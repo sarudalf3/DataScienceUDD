{
  "cells": [
    {
      "cell_type": "markdown",
      "metadata": {
        "id": "view-in-github",
        "colab_type": "text"
      },
      "source": [
        "<a href=\"https://colab.research.google.com/github/sarudalf3/DataScienceUDD/blob/main/SL10_Ejercicio_SVMMka.ipynb\" target=\"_parent\"><img src=\"https://colab.research.google.com/assets/colab-badge.svg\" alt=\"Open In Colab\"/></a>"
      ]
    },
    {
      "cell_type": "markdown",
      "metadata": {
        "id": "xEiocYIB9uYi"
      },
      "source": [
        "# **Aprendizaje supervisado**\n",
        "# SL010. Ejercicio SVM"
      ]
    },
    {
      "cell_type": "markdown",
      "metadata": {
        "id": "bbLWIH5W9kot"
      },
      "source": [
        "# Sección nueva"
      ]
    },
    {
      "cell_type": "markdown",
      "metadata": {
        "id": "sZPDVWktD1wi"
      },
      "source": [
        "Descargar el dataset ''Adult'' [UCI Machine Learning](https://archive.ics.uci.edu/ml/datasets/Adult). Leer la documentacion del conjunto de datos para definir la tarea a realizar. \n",
        "\n",
        "Entrene un modelo de SVM, con 5 fold cross validation y encuentre con GridSearch el conjunto de parametros que maximicen el indice F1. Reporte la matriz de confusion, F1, Recall, Precision y Accuracy."
      ]
    },
    {
      "cell_type": "markdown",
      "source": [
        "<font color = \"Red\"> La tarea de predicción en este caso, es determinar si una persona gana más de 50K al año"
      ],
      "metadata": {
        "id": "Ipfz5Q7U209i"
      }
    },
    {
      "cell_type": "code",
      "execution_count": 1,
      "metadata": {
        "id": "N5Tb44F6D5uF"
      },
      "outputs": [],
      "source": [
        "import pandas as pd\n",
        "import numpy as np\n",
        "import seaborn as sns\n",
        "import matplotlib.pyplot as plt\n",
        "import sklearn\n",
        "from urllib.request import urlopen\n",
        "%matplotlib inline\n",
        "import sklearn.preprocessing as preprocessing"
      ]
    },
    {
      "cell_type": "code",
      "execution_count": 2,
      "metadata": {
        "colab": {
          "base_uri": "https://localhost:8080/"
        },
        "id": "JVjz1CZ-9WWt",
        "outputId": "a52f74ef-8d51-49d7-a83f-465de4c3fc53"
      },
      "outputs": [
        {
          "output_type": "stream",
          "name": "stdout",
          "text": [
            "| This data was extracted from the census bureau database found at\n",
            "| http://www.census.gov/ftp/pub/DES/www/welcome.html\n",
            "| Donor: Ronny Kohavi and Barry Becker,\n",
            "|        Data Mining and Visualization\n",
            "|        Silicon Graphics.\n",
            "|        e-mail: ronnyk@sgi.com for questions.\n",
            "| Split into train-test using MLC++ GenCVFiles (2/3, 1/3 random).\n",
            "| 48842 instances, mix of continuous and discrete    (train=32561, test=16281)\n",
            "| 45222 if instances with unknown values are removed (train=30162, test=15060)\n",
            "| Duplicate or conflicting instances : 6\n",
            "| Class probabilities for adult.all file\n",
            "| Probability for the label '>50K'  : 23.93% / 24.78% (without unknowns)\n",
            "| Probability for the label '<=50K' : 76.07% / 75.22% (without unknowns)\n",
            "|\n",
            "| Extraction was done by Barry Becker from the 1994 Census database.  A set of\n",
            "|   reasonably clean records was extracted using the following conditions:\n",
            "|   ((AAGE>16) && (AGI>100) && (AFNLWGT>1)&& (HRSWK>0))\n",
            "|\n",
            "| Prediction task is to determine whether a person makes over 50K\n",
            "| a year.\n",
            "|\n",
            "| First cited in:\n",
            "| @inproceedings{kohavi-nbtree,\n",
            "|    author={Ron Kohavi},\n",
            "|    title={Scaling Up the Accuracy of Naive-Bayes Classifiers: a\n",
            "|           Decision-Tree Hybrid},\n",
            "|    booktitle={Proceedings of the Second International Conference on\n",
            "|               Knowledge Discovery and Data Mining},\n",
            "|    year = 1996,\n",
            "|    pages={to appear}}\n",
            "|\n",
            "| Error Accuracy reported as follows, after removal of unknowns from\n",
            "|    train/test sets):\n",
            "|    C4.5       : 84.46+-0.30\n",
            "|    Naive-Bayes: 83.88+-0.30\n",
            "|    NBTree     : 85.90+-0.28\n",
            "|\n",
            "|\n",
            "| Following algorithms were later run with the following error rates,\n",
            "|    all after removal of unknowns and using the original train/test split.\n",
            "|    All these numbers are straight runs using MLC++ with default values.\n",
            "|\n",
            "|    Algorithm               Error\n",
            "| -- ----------------        -----\n",
            "| 1  C4.5                    15.54\n",
            "| 2  C4.5-auto               14.46\n",
            "| 3  C4.5 rules              14.94\n",
            "| 4  Voted ID3 (0.6)         15.64\n",
            "| 5  Voted ID3 (0.8)         16.47\n",
            "| 6  T2                      16.84\n",
            "| 7  1R                      19.54\n",
            "| 8  NBTree                  14.10\n",
            "| 9  CN2                     16.00\n",
            "| 10 HOODG                   14.82\n",
            "| 11 FSS Naive Bayes         14.05\n",
            "| 12 IDTM (Decision table)   14.46\n",
            "| 13 Naive-Bayes             16.12\n",
            "| 14 Nearest-neighbor (1)    21.42\n",
            "| 15 Nearest-neighbor (3)    20.35\n",
            "| 16 OC1                     15.04\n",
            "| 17 Pebls                   Crashed.  Unknown why (bounds WERE increased)\n",
            "|\n",
            "| Conversion of original data as follows:\n",
            "| 1. Discretized agrossincome into two ranges with threshold 50,000.\n",
            "| 2. Convert U.S. to US to avoid periods.\n",
            "| 3. Convert Unknown to \"?\"\n",
            "| 4. Run MLC++ GenCVFiles to generate data,test.\n",
            "|\n",
            "| Description of fnlwgt (final weight)\n",
            "|\n",
            "| The weights on the CPS files are controlled to independent estimates of the\n",
            "| civilian noninstitutional population of the US.  These are prepared monthly\n",
            "| for us by Population Division here at the Census Bureau.  We use 3 sets of\n",
            "| controls.\n",
            "|  These are:\n",
            "|          1.  A single cell estimate of the population 16+ for each state.\n",
            "|          2.  Controls for Hispanic Origin by age and sex.\n",
            "|          3.  Controls by Race, age and sex.\n",
            "|\n",
            "| We use all three sets of controls in our weighting program and \"rake\" through\n",
            "| them 6 times so that by the end we come back to all the controls we used.\n",
            "|\n",
            "| The term estimate refers to population totals derived from CPS by creating\n",
            "| \"weighted tallies\" of any specified socio-economic characteristics of the\n",
            "| population.\n",
            "|\n",
            "| People with similar demographic characteristics should have\n",
            "| similar weights.  There is one important caveat to remember\n",
            "| about this statement.  That is that since the CPS sample is\n",
            "| actually a collection of 51 state samples, each with its own\n",
            "| probability of selection, the statement only applies within\n",
            "| state.\n",
            "\n",
            "\n",
            ">50K, <=50K.\n",
            "\n",
            "age: continuous.\n",
            "workclass: Private, Self-emp-not-inc, Self-emp-inc, Federal-gov, Local-gov, State-gov, Without-pay, Never-worked.\n",
            "fnlwgt: continuous.\n",
            "education: Bachelors, Some-college, 11th, HS-grad, Prof-school, Assoc-acdm, Assoc-voc, 9th, 7th-8th, 12th, Masters, 1st-4th, 10th, Doctorate, 5th-6th, Preschool.\n",
            "education-num: continuous.\n",
            "marital-status: Married-civ-spouse, Divorced, Never-married, Separated, Widowed, Married-spouse-absent, Married-AF-spouse.\n",
            "occupation: Tech-support, Craft-repair, Other-service, Sales, Exec-managerial, Prof-specialty, Handlers-cleaners, Machine-op-inspct, Adm-clerical, Farming-fishing, Transport-moving, Priv-house-serv, Protective-serv, Armed-Forces.\n",
            "relationship: Wife, Own-child, Husband, Not-in-family, Other-relative, Unmarried.\n",
            "race: White, Asian-Pac-Islander, Amer-Indian-Eskimo, Other, Black.\n",
            "sex: Female, Male.\n",
            "capital-gain: continuous.\n",
            "capital-loss: continuous.\n",
            "hours-per-week: continuous.\n",
            "native-country: United-States, Cambodia, England, Puerto-Rico, Canada, Germany, Outlying-US(Guam-USVI-etc), India, Japan, Greece, South, China, Cuba, Iran, Honduras, Philippines, Italy, Poland, Jamaica, Vietnam, Mexico, Portugal, Ireland, France, Dominican-Republic, Laos, Ecuador, Taiwan, Haiti, Columbia, Hungary, Guatemala, Nicaragua, Scotland, Thailand, Yugoslavia, El-Salvador, Trinadad&Tobago, Peru, Hong, Holand-Netherlands.\n",
            "\n"
          ]
        }
      ],
      "source": [
        "#explicación de los datos\n",
        "path_names = \"https://archive.ics.uci.edu/ml/machine-learning-databases/adult/adult.names\"\n",
        "\n",
        "lines = urlopen(path_names).read().decode('utf-8').split('\\n')\n",
        "for line in lines:\n",
        "    print(line)"
      ]
    },
    {
      "cell_type": "code",
      "execution_count": 3,
      "metadata": {
        "id": "vbz9VcJr9ZNH"
      },
      "outputs": [],
      "source": [
        "train_url = 'https://archive.ics.uci.edu/ml/machine-learning-databases/adult/adult.data'            \n",
        "test_url = 'https://archive.ics.uci.edu/ml/machine-learning-databases/adult/adult.test'"
      ]
    },
    {
      "cell_type": "code",
      "execution_count": 4,
      "metadata": {
        "colab": {
          "base_uri": "https://localhost:8080/",
          "height": 371
        },
        "id": "K3t2a7n9-Wy5",
        "outputId": "dea484bb-43ad-4f11-835e-76304a28e528"
      },
      "outputs": [
        {
          "output_type": "stream",
          "name": "stdout",
          "text": [
            "(32561, 15)\n"
          ]
        },
        {
          "output_type": "execute_result",
          "data": {
            "text/plain": [
              "   Age         Workclass  Fnlwgt  Education  Education-Num  \\\n",
              "0   39         State-gov   77516  Bachelors             13   \n",
              "1   50  Self-emp-not-inc   83311  Bachelors             13   \n",
              "2   38           Private  215646    HS-grad              9   \n",
              "3   53           Private  234721       11th              7   \n",
              "4   28           Private  338409  Bachelors             13   \n",
              "\n",
              "       Martial Status         Occupation   Relationship   Race     Sex  \\\n",
              "0       Never-married       Adm-clerical  Not-in-family  White    Male   \n",
              "1  Married-civ-spouse    Exec-managerial        Husband  White    Male   \n",
              "2            Divorced  Handlers-cleaners  Not-in-family  White    Male   \n",
              "3  Married-civ-spouse  Handlers-cleaners        Husband  Black    Male   \n",
              "4  Married-civ-spouse     Prof-specialty           Wife  Black  Female   \n",
              "\n",
              "   Capital Gain  Capital Loss  Hours per week        Country Target  train  \n",
              "0          2174             0              40  United-States  <=50K      1  \n",
              "1             0             0              13  United-States  <=50K      1  \n",
              "2             0             0              40  United-States  <=50K      1  \n",
              "3             0             0              40  United-States  <=50K      1  \n",
              "4             0             0              40           Cuba  <=50K      1  "
            ],
            "text/html": [
              "\n",
              "  <div id=\"df-684d531f-7c71-4eb1-91e1-5eb24575506c\">\n",
              "    <div class=\"colab-df-container\">\n",
              "      <div>\n",
              "<style scoped>\n",
              "    .dataframe tbody tr th:only-of-type {\n",
              "        vertical-align: middle;\n",
              "    }\n",
              "\n",
              "    .dataframe tbody tr th {\n",
              "        vertical-align: top;\n",
              "    }\n",
              "\n",
              "    .dataframe thead th {\n",
              "        text-align: right;\n",
              "    }\n",
              "</style>\n",
              "<table border=\"1\" class=\"dataframe\">\n",
              "  <thead>\n",
              "    <tr style=\"text-align: right;\">\n",
              "      <th></th>\n",
              "      <th>Age</th>\n",
              "      <th>Workclass</th>\n",
              "      <th>Fnlwgt</th>\n",
              "      <th>Education</th>\n",
              "      <th>Education-Num</th>\n",
              "      <th>Martial Status</th>\n",
              "      <th>Occupation</th>\n",
              "      <th>Relationship</th>\n",
              "      <th>Race</th>\n",
              "      <th>Sex</th>\n",
              "      <th>Capital Gain</th>\n",
              "      <th>Capital Loss</th>\n",
              "      <th>Hours per week</th>\n",
              "      <th>Country</th>\n",
              "      <th>Target</th>\n",
              "      <th>train</th>\n",
              "    </tr>\n",
              "  </thead>\n",
              "  <tbody>\n",
              "    <tr>\n",
              "      <th>0</th>\n",
              "      <td>39</td>\n",
              "      <td>State-gov</td>\n",
              "      <td>77516</td>\n",
              "      <td>Bachelors</td>\n",
              "      <td>13</td>\n",
              "      <td>Never-married</td>\n",
              "      <td>Adm-clerical</td>\n",
              "      <td>Not-in-family</td>\n",
              "      <td>White</td>\n",
              "      <td>Male</td>\n",
              "      <td>2174</td>\n",
              "      <td>0</td>\n",
              "      <td>40</td>\n",
              "      <td>United-States</td>\n",
              "      <td>&lt;=50K</td>\n",
              "      <td>1</td>\n",
              "    </tr>\n",
              "    <tr>\n",
              "      <th>1</th>\n",
              "      <td>50</td>\n",
              "      <td>Self-emp-not-inc</td>\n",
              "      <td>83311</td>\n",
              "      <td>Bachelors</td>\n",
              "      <td>13</td>\n",
              "      <td>Married-civ-spouse</td>\n",
              "      <td>Exec-managerial</td>\n",
              "      <td>Husband</td>\n",
              "      <td>White</td>\n",
              "      <td>Male</td>\n",
              "      <td>0</td>\n",
              "      <td>0</td>\n",
              "      <td>13</td>\n",
              "      <td>United-States</td>\n",
              "      <td>&lt;=50K</td>\n",
              "      <td>1</td>\n",
              "    </tr>\n",
              "    <tr>\n",
              "      <th>2</th>\n",
              "      <td>38</td>\n",
              "      <td>Private</td>\n",
              "      <td>215646</td>\n",
              "      <td>HS-grad</td>\n",
              "      <td>9</td>\n",
              "      <td>Divorced</td>\n",
              "      <td>Handlers-cleaners</td>\n",
              "      <td>Not-in-family</td>\n",
              "      <td>White</td>\n",
              "      <td>Male</td>\n",
              "      <td>0</td>\n",
              "      <td>0</td>\n",
              "      <td>40</td>\n",
              "      <td>United-States</td>\n",
              "      <td>&lt;=50K</td>\n",
              "      <td>1</td>\n",
              "    </tr>\n",
              "    <tr>\n",
              "      <th>3</th>\n",
              "      <td>53</td>\n",
              "      <td>Private</td>\n",
              "      <td>234721</td>\n",
              "      <td>11th</td>\n",
              "      <td>7</td>\n",
              "      <td>Married-civ-spouse</td>\n",
              "      <td>Handlers-cleaners</td>\n",
              "      <td>Husband</td>\n",
              "      <td>Black</td>\n",
              "      <td>Male</td>\n",
              "      <td>0</td>\n",
              "      <td>0</td>\n",
              "      <td>40</td>\n",
              "      <td>United-States</td>\n",
              "      <td>&lt;=50K</td>\n",
              "      <td>1</td>\n",
              "    </tr>\n",
              "    <tr>\n",
              "      <th>4</th>\n",
              "      <td>28</td>\n",
              "      <td>Private</td>\n",
              "      <td>338409</td>\n",
              "      <td>Bachelors</td>\n",
              "      <td>13</td>\n",
              "      <td>Married-civ-spouse</td>\n",
              "      <td>Prof-specialty</td>\n",
              "      <td>Wife</td>\n",
              "      <td>Black</td>\n",
              "      <td>Female</td>\n",
              "      <td>0</td>\n",
              "      <td>0</td>\n",
              "      <td>40</td>\n",
              "      <td>Cuba</td>\n",
              "      <td>&lt;=50K</td>\n",
              "      <td>1</td>\n",
              "    </tr>\n",
              "  </tbody>\n",
              "</table>\n",
              "</div>\n",
              "      <button class=\"colab-df-convert\" onclick=\"convertToInteractive('df-684d531f-7c71-4eb1-91e1-5eb24575506c')\"\n",
              "              title=\"Convert this dataframe to an interactive table.\"\n",
              "              style=\"display:none;\">\n",
              "        \n",
              "  <svg xmlns=\"http://www.w3.org/2000/svg\" height=\"24px\"viewBox=\"0 0 24 24\"\n",
              "       width=\"24px\">\n",
              "    <path d=\"M0 0h24v24H0V0z\" fill=\"none\"/>\n",
              "    <path d=\"M18.56 5.44l.94 2.06.94-2.06 2.06-.94-2.06-.94-.94-2.06-.94 2.06-2.06.94zm-11 1L8.5 8.5l.94-2.06 2.06-.94-2.06-.94L8.5 2.5l-.94 2.06-2.06.94zm10 10l.94 2.06.94-2.06 2.06-.94-2.06-.94-.94-2.06-.94 2.06-2.06.94z\"/><path d=\"M17.41 7.96l-1.37-1.37c-.4-.4-.92-.59-1.43-.59-.52 0-1.04.2-1.43.59L10.3 9.45l-7.72 7.72c-.78.78-.78 2.05 0 2.83L4 21.41c.39.39.9.59 1.41.59.51 0 1.02-.2 1.41-.59l7.78-7.78 2.81-2.81c.8-.78.8-2.07 0-2.86zM5.41 20L4 18.59l7.72-7.72 1.47 1.35L5.41 20z\"/>\n",
              "  </svg>\n",
              "      </button>\n",
              "      \n",
              "  <style>\n",
              "    .colab-df-container {\n",
              "      display:flex;\n",
              "      flex-wrap:wrap;\n",
              "      gap: 12px;\n",
              "    }\n",
              "\n",
              "    .colab-df-convert {\n",
              "      background-color: #E8F0FE;\n",
              "      border: none;\n",
              "      border-radius: 50%;\n",
              "      cursor: pointer;\n",
              "      display: none;\n",
              "      fill: #1967D2;\n",
              "      height: 32px;\n",
              "      padding: 0 0 0 0;\n",
              "      width: 32px;\n",
              "    }\n",
              "\n",
              "    .colab-df-convert:hover {\n",
              "      background-color: #E2EBFA;\n",
              "      box-shadow: 0px 1px 2px rgba(60, 64, 67, 0.3), 0px 1px 3px 1px rgba(60, 64, 67, 0.15);\n",
              "      fill: #174EA6;\n",
              "    }\n",
              "\n",
              "    [theme=dark] .colab-df-convert {\n",
              "      background-color: #3B4455;\n",
              "      fill: #D2E3FC;\n",
              "    }\n",
              "\n",
              "    [theme=dark] .colab-df-convert:hover {\n",
              "      background-color: #434B5C;\n",
              "      box-shadow: 0px 1px 3px 1px rgba(0, 0, 0, 0.15);\n",
              "      filter: drop-shadow(0px 1px 2px rgba(0, 0, 0, 0.3));\n",
              "      fill: #FFFFFF;\n",
              "    }\n",
              "  </style>\n",
              "\n",
              "      <script>\n",
              "        const buttonEl =\n",
              "          document.querySelector('#df-684d531f-7c71-4eb1-91e1-5eb24575506c button.colab-df-convert');\n",
              "        buttonEl.style.display =\n",
              "          google.colab.kernel.accessAllowed ? 'block' : 'none';\n",
              "\n",
              "        async function convertToInteractive(key) {\n",
              "          const element = document.querySelector('#df-684d531f-7c71-4eb1-91e1-5eb24575506c');\n",
              "          const dataTable =\n",
              "            await google.colab.kernel.invokeFunction('convertToInteractive',\n",
              "                                                     [key], {});\n",
              "          if (!dataTable) return;\n",
              "\n",
              "          const docLinkHtml = 'Like what you see? Visit the ' +\n",
              "            '<a target=\"_blank\" href=https://colab.research.google.com/notebooks/data_table.ipynb>data table notebook</a>'\n",
              "            + ' to learn more about interactive tables.';\n",
              "          element.innerHTML = '';\n",
              "          dataTable['output_type'] = 'display_data';\n",
              "          await google.colab.output.renderOutput(dataTable, element);\n",
              "          const docLink = document.createElement('div');\n",
              "          docLink.innerHTML = docLinkHtml;\n",
              "          element.appendChild(docLink);\n",
              "        }\n",
              "      </script>\n",
              "    </div>\n",
              "  </div>\n",
              "  "
            ]
          },
          "metadata": {},
          "execution_count": 4
        }
      ],
      "source": [
        "features_names = ['Age','Workclass','Fnlwgt','Education','Education-Num','Martial Status','Occupation','Relationship','Race',\n",
        "            'Sex','Capital Gain','Capital Loss','Hours per week','Country','Target'] \n",
        "\n",
        "#Read train data\n",
        "train = pd.read_csv(train_url, names=features_names, sep=r'\\s*,\\s*', engine='python', na_values=\"?\")\n",
        "print(train.shape)\n",
        "train.loc[:,'train'] = 1\n",
        "train.head(5)"
      ]
    },
    {
      "cell_type": "code",
      "execution_count": 5,
      "metadata": {
        "colab": {
          "base_uri": "https://localhost:8080/",
          "height": 371
        },
        "id": "lj-IB-SA-o0L",
        "outputId": "9dd3caa9-5ea2-421e-b9ff-07fc140976e9"
      },
      "outputs": [
        {
          "output_type": "stream",
          "name": "stdout",
          "text": [
            "(16281, 15)\n"
          ]
        },
        {
          "output_type": "execute_result",
          "data": {
            "text/plain": [
              "   Age  Workclass  Fnlwgt     Education  Education-Num      Martial Status  \\\n",
              "0   25    Private  226802          11th              7       Never-married   \n",
              "1   38    Private   89814       HS-grad              9  Married-civ-spouse   \n",
              "2   28  Local-gov  336951    Assoc-acdm             12  Married-civ-spouse   \n",
              "3   44    Private  160323  Some-college             10  Married-civ-spouse   \n",
              "4   18        NaN  103497  Some-college             10       Never-married   \n",
              "\n",
              "          Occupation Relationship   Race     Sex  Capital Gain  Capital Loss  \\\n",
              "0  Machine-op-inspct    Own-child  Black    Male             0             0   \n",
              "1    Farming-fishing      Husband  White    Male             0             0   \n",
              "2    Protective-serv      Husband  White    Male             0             0   \n",
              "3  Machine-op-inspct      Husband  Black    Male          7688             0   \n",
              "4                NaN    Own-child  White  Female             0             0   \n",
              "\n",
              "   Hours per week        Country  Target  train  \n",
              "0              40  United-States  <=50K.      0  \n",
              "1              50  United-States  <=50K.      0  \n",
              "2              40  United-States   >50K.      0  \n",
              "3              40  United-States   >50K.      0  \n",
              "4              30  United-States  <=50K.      0  "
            ],
            "text/html": [
              "\n",
              "  <div id=\"df-657f55c0-b60d-4db8-b07b-ec43780e765f\">\n",
              "    <div class=\"colab-df-container\">\n",
              "      <div>\n",
              "<style scoped>\n",
              "    .dataframe tbody tr th:only-of-type {\n",
              "        vertical-align: middle;\n",
              "    }\n",
              "\n",
              "    .dataframe tbody tr th {\n",
              "        vertical-align: top;\n",
              "    }\n",
              "\n",
              "    .dataframe thead th {\n",
              "        text-align: right;\n",
              "    }\n",
              "</style>\n",
              "<table border=\"1\" class=\"dataframe\">\n",
              "  <thead>\n",
              "    <tr style=\"text-align: right;\">\n",
              "      <th></th>\n",
              "      <th>Age</th>\n",
              "      <th>Workclass</th>\n",
              "      <th>Fnlwgt</th>\n",
              "      <th>Education</th>\n",
              "      <th>Education-Num</th>\n",
              "      <th>Martial Status</th>\n",
              "      <th>Occupation</th>\n",
              "      <th>Relationship</th>\n",
              "      <th>Race</th>\n",
              "      <th>Sex</th>\n",
              "      <th>Capital Gain</th>\n",
              "      <th>Capital Loss</th>\n",
              "      <th>Hours per week</th>\n",
              "      <th>Country</th>\n",
              "      <th>Target</th>\n",
              "      <th>train</th>\n",
              "    </tr>\n",
              "  </thead>\n",
              "  <tbody>\n",
              "    <tr>\n",
              "      <th>0</th>\n",
              "      <td>25</td>\n",
              "      <td>Private</td>\n",
              "      <td>226802</td>\n",
              "      <td>11th</td>\n",
              "      <td>7</td>\n",
              "      <td>Never-married</td>\n",
              "      <td>Machine-op-inspct</td>\n",
              "      <td>Own-child</td>\n",
              "      <td>Black</td>\n",
              "      <td>Male</td>\n",
              "      <td>0</td>\n",
              "      <td>0</td>\n",
              "      <td>40</td>\n",
              "      <td>United-States</td>\n",
              "      <td>&lt;=50K.</td>\n",
              "      <td>0</td>\n",
              "    </tr>\n",
              "    <tr>\n",
              "      <th>1</th>\n",
              "      <td>38</td>\n",
              "      <td>Private</td>\n",
              "      <td>89814</td>\n",
              "      <td>HS-grad</td>\n",
              "      <td>9</td>\n",
              "      <td>Married-civ-spouse</td>\n",
              "      <td>Farming-fishing</td>\n",
              "      <td>Husband</td>\n",
              "      <td>White</td>\n",
              "      <td>Male</td>\n",
              "      <td>0</td>\n",
              "      <td>0</td>\n",
              "      <td>50</td>\n",
              "      <td>United-States</td>\n",
              "      <td>&lt;=50K.</td>\n",
              "      <td>0</td>\n",
              "    </tr>\n",
              "    <tr>\n",
              "      <th>2</th>\n",
              "      <td>28</td>\n",
              "      <td>Local-gov</td>\n",
              "      <td>336951</td>\n",
              "      <td>Assoc-acdm</td>\n",
              "      <td>12</td>\n",
              "      <td>Married-civ-spouse</td>\n",
              "      <td>Protective-serv</td>\n",
              "      <td>Husband</td>\n",
              "      <td>White</td>\n",
              "      <td>Male</td>\n",
              "      <td>0</td>\n",
              "      <td>0</td>\n",
              "      <td>40</td>\n",
              "      <td>United-States</td>\n",
              "      <td>&gt;50K.</td>\n",
              "      <td>0</td>\n",
              "    </tr>\n",
              "    <tr>\n",
              "      <th>3</th>\n",
              "      <td>44</td>\n",
              "      <td>Private</td>\n",
              "      <td>160323</td>\n",
              "      <td>Some-college</td>\n",
              "      <td>10</td>\n",
              "      <td>Married-civ-spouse</td>\n",
              "      <td>Machine-op-inspct</td>\n",
              "      <td>Husband</td>\n",
              "      <td>Black</td>\n",
              "      <td>Male</td>\n",
              "      <td>7688</td>\n",
              "      <td>0</td>\n",
              "      <td>40</td>\n",
              "      <td>United-States</td>\n",
              "      <td>&gt;50K.</td>\n",
              "      <td>0</td>\n",
              "    </tr>\n",
              "    <tr>\n",
              "      <th>4</th>\n",
              "      <td>18</td>\n",
              "      <td>NaN</td>\n",
              "      <td>103497</td>\n",
              "      <td>Some-college</td>\n",
              "      <td>10</td>\n",
              "      <td>Never-married</td>\n",
              "      <td>NaN</td>\n",
              "      <td>Own-child</td>\n",
              "      <td>White</td>\n",
              "      <td>Female</td>\n",
              "      <td>0</td>\n",
              "      <td>0</td>\n",
              "      <td>30</td>\n",
              "      <td>United-States</td>\n",
              "      <td>&lt;=50K.</td>\n",
              "      <td>0</td>\n",
              "    </tr>\n",
              "  </tbody>\n",
              "</table>\n",
              "</div>\n",
              "      <button class=\"colab-df-convert\" onclick=\"convertToInteractive('df-657f55c0-b60d-4db8-b07b-ec43780e765f')\"\n",
              "              title=\"Convert this dataframe to an interactive table.\"\n",
              "              style=\"display:none;\">\n",
              "        \n",
              "  <svg xmlns=\"http://www.w3.org/2000/svg\" height=\"24px\"viewBox=\"0 0 24 24\"\n",
              "       width=\"24px\">\n",
              "    <path d=\"M0 0h24v24H0V0z\" fill=\"none\"/>\n",
              "    <path d=\"M18.56 5.44l.94 2.06.94-2.06 2.06-.94-2.06-.94-.94-2.06-.94 2.06-2.06.94zm-11 1L8.5 8.5l.94-2.06 2.06-.94-2.06-.94L8.5 2.5l-.94 2.06-2.06.94zm10 10l.94 2.06.94-2.06 2.06-.94-2.06-.94-.94-2.06-.94 2.06-2.06.94z\"/><path d=\"M17.41 7.96l-1.37-1.37c-.4-.4-.92-.59-1.43-.59-.52 0-1.04.2-1.43.59L10.3 9.45l-7.72 7.72c-.78.78-.78 2.05 0 2.83L4 21.41c.39.39.9.59 1.41.59.51 0 1.02-.2 1.41-.59l7.78-7.78 2.81-2.81c.8-.78.8-2.07 0-2.86zM5.41 20L4 18.59l7.72-7.72 1.47 1.35L5.41 20z\"/>\n",
              "  </svg>\n",
              "      </button>\n",
              "      \n",
              "  <style>\n",
              "    .colab-df-container {\n",
              "      display:flex;\n",
              "      flex-wrap:wrap;\n",
              "      gap: 12px;\n",
              "    }\n",
              "\n",
              "    .colab-df-convert {\n",
              "      background-color: #E8F0FE;\n",
              "      border: none;\n",
              "      border-radius: 50%;\n",
              "      cursor: pointer;\n",
              "      display: none;\n",
              "      fill: #1967D2;\n",
              "      height: 32px;\n",
              "      padding: 0 0 0 0;\n",
              "      width: 32px;\n",
              "    }\n",
              "\n",
              "    .colab-df-convert:hover {\n",
              "      background-color: #E2EBFA;\n",
              "      box-shadow: 0px 1px 2px rgba(60, 64, 67, 0.3), 0px 1px 3px 1px rgba(60, 64, 67, 0.15);\n",
              "      fill: #174EA6;\n",
              "    }\n",
              "\n",
              "    [theme=dark] .colab-df-convert {\n",
              "      background-color: #3B4455;\n",
              "      fill: #D2E3FC;\n",
              "    }\n",
              "\n",
              "    [theme=dark] .colab-df-convert:hover {\n",
              "      background-color: #434B5C;\n",
              "      box-shadow: 0px 1px 3px 1px rgba(0, 0, 0, 0.15);\n",
              "      filter: drop-shadow(0px 1px 2px rgba(0, 0, 0, 0.3));\n",
              "      fill: #FFFFFF;\n",
              "    }\n",
              "  </style>\n",
              "\n",
              "      <script>\n",
              "        const buttonEl =\n",
              "          document.querySelector('#df-657f55c0-b60d-4db8-b07b-ec43780e765f button.colab-df-convert');\n",
              "        buttonEl.style.display =\n",
              "          google.colab.kernel.accessAllowed ? 'block' : 'none';\n",
              "\n",
              "        async function convertToInteractive(key) {\n",
              "          const element = document.querySelector('#df-657f55c0-b60d-4db8-b07b-ec43780e765f');\n",
              "          const dataTable =\n",
              "            await google.colab.kernel.invokeFunction('convertToInteractive',\n",
              "                                                     [key], {});\n",
              "          if (!dataTable) return;\n",
              "\n",
              "          const docLinkHtml = 'Like what you see? Visit the ' +\n",
              "            '<a target=\"_blank\" href=https://colab.research.google.com/notebooks/data_table.ipynb>data table notebook</a>'\n",
              "            + ' to learn more about interactive tables.';\n",
              "          element.innerHTML = '';\n",
              "          dataTable['output_type'] = 'display_data';\n",
              "          await google.colab.output.renderOutput(dataTable, element);\n",
              "          const docLink = document.createElement('div');\n",
              "          docLink.innerHTML = docLinkHtml;\n",
              "          element.appendChild(docLink);\n",
              "        }\n",
              "      </script>\n",
              "    </div>\n",
              "  </div>\n",
              "  "
            ]
          },
          "metadata": {},
          "execution_count": 5
        }
      ],
      "source": [
        "test = pd.read_csv(test_url, names=features_names, sep=r'\\s*,\\s*', engine='python', na_values=\"?\", skiprows=1)\n",
        "print(test.shape)\n",
        "test.loc[:,'train'] = 0\n",
        "test.head(5)"
      ]
    },
    {
      "cell_type": "code",
      "execution_count": 6,
      "metadata": {
        "id": "_ytgJd1O_53R"
      },
      "outputs": [],
      "source": [
        "##Se concatena la data de test y entrenamiento.\n",
        "original = pd.concat([train, test])"
      ]
    },
    {
      "cell_type": "code",
      "execution_count": 7,
      "metadata": {
        "colab": {
          "base_uri": "https://localhost:8080/",
          "height": 656
        },
        "id": "eQ7EfNFo-Av_",
        "outputId": "d3dfc212-e1a0-4764-a32d-1c3fc62ba3de"
      },
      "outputs": [
        {
          "output_type": "display_data",
          "data": {
            "text/plain": [
              "<Figure size 1800x720 with 2 Axes>"
            ],
            "image/png": "[encoded data removed]"
          },
          "metadata": {
            "needs_background": "light"
          }
        }
      ],
      "source": [
        "import missingno as msno\n",
        "%matplotlib inline\n",
        "## Se genera grafico para visualizar el estado de la data.\n",
        "msno.matrix(original)\n",
        "plt.show()"
      ]
    },
    {
      "cell_type": "code",
      "execution_count": 8,
      "metadata": {
        "colab": {
          "base_uri": "https://localhost:8080/",
          "height": 694
        },
        "id": "hWcbJL6--SbH",
        "outputId": "38c3221f-bd4c-4807-cafd-d8f1abfffe52"
      },
      "outputs": [
        {
          "output_type": "display_data",
          "data": {
            "text/plain": [
              "<Figure size 1800x720 with 3 Axes>"
            ],
            "image/png": "[encoded data removed]"
          },
          "metadata": {
            "needs_background": "light"
          }
        }
      ],
      "source": [
        "msno.bar(original)\n",
        "plt.show()"
      ]
    },
    {
      "cell_type": "code",
      "execution_count": 9,
      "metadata": {
        "colab": {
          "base_uri": "https://localhost:8080/"
        },
        "id": "559tVf7g4TT2",
        "outputId": "1b2debbb-164d-45e7-dd73-a2725ca2a33a"
      },
      "outputs": [
        {
          "output_type": "stream",
          "name": "stdout",
          "text": [
            "Age                  0\n",
            "Workclass         2799\n",
            "Fnlwgt               0\n",
            "Education            0\n",
            "Education-Num        0\n",
            "Martial Status       0\n",
            "Occupation        2809\n",
            "Relationship         0\n",
            "Race                 0\n",
            "Sex                  0\n",
            "Capital Gain         0\n",
            "Capital Loss         0\n",
            "Hours per week       0\n",
            "Country            857\n",
            "Target               0\n",
            "train                0\n",
            "dtype: int64\n"
          ]
        }
      ],
      "source": [
        "##Se cuentan los valores Null\n",
        "null_counts = original.isnull().sum()\n",
        "print(null_counts)"
      ]
    },
    {
      "cell_type": "code",
      "execution_count": 10,
      "metadata": {
        "colab": {
          "base_uri": "https://localhost:8080/"
        },
        "id": "ubC9nBz34ZyS",
        "outputId": "3f1d808e-fd05-4813-a069-d5aa7ede67a3"
      },
      "outputs": [
        {
          "output_type": "stream",
          "name": "stdout",
          "text": [
            "<class 'pandas.core.frame.DataFrame'>\n",
            "Int64Index: 45222 entries, 0 to 16280\n",
            "Data columns (total 16 columns):\n",
            " #   Column          Non-Null Count  Dtype \n",
            "---  ------          --------------  ----- \n",
            " 0   Age             45222 non-null  int64 \n",
            " 1   Workclass       45222 non-null  object\n",
            " 2   Fnlwgt          45222 non-null  int64 \n",
            " 3   Education       45222 non-null  object\n",
            " 4   Education-Num   45222 non-null  int64 \n",
            " 5   Martial Status  45222 non-null  object\n",
            " 6   Occupation      45222 non-null  object\n",
            " 7   Relationship    45222 non-null  object\n",
            " 8   Race            45222 non-null  object\n",
            " 9   Sex             45222 non-null  object\n",
            " 10  Capital Gain    45222 non-null  int64 \n",
            " 11  Capital Loss    45222 non-null  int64 \n",
            " 12  Hours per week  45222 non-null  int64 \n",
            " 13  Country         45222 non-null  object\n",
            " 14  Target          45222 non-null  object\n",
            " 15  train           45222 non-null  int64 \n",
            "dtypes: int64(7), object(9)\n",
            "memory usage: 5.9+ MB\n"
          ]
        }
      ],
      "source": [
        "df = original.dropna()\n",
        "df.info()"
      ]
    },
    {
      "cell_type": "markdown",
      "metadata": {
        "id": "TTXHmRCs40kX"
      },
      "source": [
        "Caterorical Analysis"
      ]
    },
    {
      "cell_type": "code",
      "execution_count": 11,
      "metadata": {
        "colab": {
          "base_uri": "https://localhost:8080/"
        },
        "id": "aBrORzPR5gii",
        "outputId": "c5af053c-4d75-4d79-8192-50b077d4d9f4"
      },
      "outputs": [
        {
          "output_type": "execute_result",
          "data": {
            "text/plain": [
              "Private             33307\n",
              "Self-emp-not-inc     3796\n",
              "Local-gov            3100\n",
              "State-gov            1946\n",
              "Self-emp-inc         1646\n",
              "Federal-gov          1406\n",
              "Without-pay            21\n",
              "Name: Workclass, dtype: int64"
            ]
          },
          "metadata": {},
          "execution_count": 11
        }
      ],
      "source": [
        "#Worldclass\n",
        "df['Workclass'].value_counts()"
      ]
    },
    {
      "cell_type": "code",
      "execution_count": 12,
      "metadata": {
        "colab": {
          "base_uri": "https://localhost:8080/"
        },
        "id": "9ObfCGHo5q9N",
        "outputId": "630993e8-fa52-4a14-eddd-3a30522d2cf0"
      },
      "outputs": [
        {
          "output_type": "execute_result",
          "data": {
            "text/plain": [
              "HS-grad         14783\n",
              "Some-college     9899\n",
              "Bachelors        7570\n",
              "Masters          2514\n",
              "Assoc-voc        1959\n",
              "11th             1619\n",
              "Assoc-acdm       1507\n",
              "10th             1223\n",
              "7th-8th           823\n",
              "Prof-school       785\n",
              "9th               676\n",
              "12th              577\n",
              "Doctorate         544\n",
              "5th-6th           449\n",
              "1st-4th           222\n",
              "Preschool          72\n",
              "Name: Education, dtype: int64"
            ]
          },
          "metadata": {},
          "execution_count": 12
        }
      ],
      "source": [
        "#Education\n",
        "df['Education'].value_counts()"
      ]
    },
    {
      "cell_type": "code",
      "execution_count": 13,
      "metadata": {
        "colab": {
          "base_uri": "https://localhost:8080/"
        },
        "id": "Dhc_bn1J54UZ",
        "outputId": "2d1726fa-53ab-48e7-81f2-a9c4291a4670"
      },
      "outputs": [
        {
          "output_type": "execute_result",
          "data": {
            "text/plain": [
              "HS-grad         14783\n",
              "Some-college     9899\n",
              "Bachelors        7570\n",
              "Non-grad         5661\n",
              "Masters          2514\n",
              "Assoc-voc        1959\n",
              "Assoc-acdm       1507\n",
              "Prof-school       785\n",
              "Doctorate         544\n",
              "Name: Education, dtype: int64"
            ]
          },
          "metadata": {},
          "execution_count": 13
        }
      ],
      "source": [
        "#create a column with without grade\n",
        "dic_Ed = {'Education':{'11th':'Non-grad','10th':'Non-grad','7th-8th':'Non-grad','9th':'Non-grad','12th':'Non-grad',\n",
        "                       '5th-6th':'Non-grad','1st-4th':'Non-grad','Preschool':'Non-grad','HS-grad':'HS-grad',\n",
        "                       'Some-college':'Some-college','Bachelors':'Bachelors','Non-grad':'Non-grad',\n",
        "                        'Masters':'Masters','Assoc-voc':'Assoc-voc','Assoc-acdm':'Assoc-acdm','Prof-school':'Prof-school','Doctorate':'Doctorate'}}\n",
        "df = df.replace(dic_Ed) \n",
        "df['Education'].value_counts()"
      ]
    },
    {
      "cell_type": "code",
      "execution_count": 14,
      "metadata": {
        "colab": {
          "base_uri": "https://localhost:8080/"
        },
        "id": "4FWIupBL_snJ",
        "outputId": "a9300283-1229-4c2a-9cef-ffe968b57bbd"
      },
      "outputs": [
        {
          "output_type": "execute_result",
          "data": {
            "text/plain": [
              "United-States    41292\n",
              "Non US            3930\n",
              "Name: Country, dtype: int64"
            ]
          },
          "metadata": {},
          "execution_count": 14
        }
      ],
      "source": [
        "#Countries, solo se deja si es de EEUU, sino se marca con Non US\n",
        "other_countries = df['Country'].value_counts().index[1:]\n",
        "df = df.replace(other_countries, 'Non US')\n",
        "df['Country'].value_counts()"
      ]
    },
    {
      "cell_type": "code",
      "execution_count": 15,
      "metadata": {
        "colab": {
          "base_uri": "https://localhost:8080/"
        },
        "id": "hnh1Sum-IPor",
        "outputId": "c01723a2-2337-4d18-ac5e-099ef7fecee6"
      },
      "outputs": [
        {
          "output_type": "execute_result",
          "data": {
            "text/plain": [
              "Married-civ-spouse       21055\n",
              "Never-married            14598\n",
              "Divorced                  6297\n",
              "Separated                 1411\n",
              "Widowed                   1277\n",
              "Married-spouse-absent      552\n",
              "Married-AF-spouse           32\n",
              "Name: Martial Status, dtype: int64"
            ]
          },
          "metadata": {},
          "execution_count": 15
        }
      ],
      "source": [
        "## Valida que estados civiles existen en la BD\n",
        "df['Martial Status'].value_counts()"
      ]
    },
    {
      "cell_type": "code",
      "execution_count": 16,
      "metadata": {
        "colab": {
          "base_uri": "https://localhost:8080/"
        },
        "id": "BFv8ojYOHFcU",
        "outputId": "a91bc2ee-201d-4379-f81a-245efe2b4fb8"
      },
      "outputs": [
        {
          "output_type": "execute_result",
          "data": {
            "text/plain": [
              "Married          21639\n",
              "Never-married    14598\n",
              "Divorced          6297\n",
              "Separated         1411\n",
              "Widowed           1277\n",
              "Name: Martial Status, dtype: int64"
            ]
          },
          "metadata": {},
          "execution_count": 16
        }
      ],
      "source": [
        "#Martial Status, se eliminan algunos estados, dado que son muy pocos registros y serian relevantes para el analisis\n",
        "married = df['Martial Status'].value_counts().index[[0,-2,-1]]\n",
        "df['Martial Status'].replace(married, 'Married', inplace=True)\n",
        "df['Martial Status'].value_counts()"
      ]
    },
    {
      "cell_type": "code",
      "execution_count": 17,
      "metadata": {
        "id": "DctpVX0-I-63"
      },
      "outputs": [],
      "source": [
        "## El campo Target es el cual nos servira como nuestra variable Y o sea nuestra variable a predicir\n",
        "## Se crea campo Target_Bin, para dejar el valor a binario\n",
        "df['Target_bin'] = df['Target'].replace('<=50K', 0).replace('>50K', 1).replace('<=50K.', 0).replace('>50K.', 1)"
      ]
    },
    {
      "cell_type": "code",
      "execution_count": 18,
      "metadata": {
        "id": "b8_YxCM3KHpr"
      },
      "outputs": [],
      "source": [
        "df['Target_bin'].value_counts()\n",
        "df.drop(columns=['Target','Education-Num'], inplace=True)"
      ]
    },
    {
      "cell_type": "markdown",
      "source": [
        "Transformar variables"
      ],
      "metadata": {
        "id": "0604nR2O2yQY"
      }
    },
    {
      "cell_type": "markdown",
      "metadata": {
        "id": "fBi2N_HP4KXp"
      },
      "source": [
        "crear variables dummy"
      ]
    },
    {
      "cell_type": "code",
      "execution_count": 19,
      "metadata": {
        "colab": {
          "base_uri": "https://localhost:8080/"
        },
        "id": "TLtag68qMF9v",
        "outputId": "0c46aa0d-9d9b-4584-aca1-a03af1400b43"
      },
      "outputs": [
        {
          "output_type": "execute_result",
          "data": {
            "text/plain": [
              "(45222, 57)"
            ]
          },
          "metadata": {},
          "execution_count": 19
        }
      ],
      "source": [
        "dummy_df = pd.get_dummies(df)\n",
        "dummy_df.shape"
      ]
    },
    {
      "cell_type": "markdown",
      "metadata": {
        "id": "ePZVkz1AMUGQ"
      },
      "source": [
        "Seleccionar X e Y"
      ]
    },
    {
      "cell_type": "code",
      "execution_count": 20,
      "metadata": {
        "colab": {
          "base_uri": "https://localhost:8080/"
        },
        "id": "IcM4_MhYNt0q",
        "outputId": "8f7e6ea0-3176-4641-fa97-5510cf520ec4"
      },
      "outputs": [
        {
          "output_type": "execute_result",
          "data": {
            "text/plain": [
              "Index(['Age', 'Fnlwgt', 'Capital Gain', 'Capital Loss', 'Hours per week',\n",
              "       'train', 'Target_bin', 'Workclass_Federal-gov', 'Workclass_Local-gov',\n",
              "       'Workclass_Private', 'Workclass_Self-emp-inc',\n",
              "       'Workclass_Self-emp-not-inc', 'Workclass_State-gov',\n",
              "       'Workclass_Without-pay', 'Education_Assoc-acdm', 'Education_Assoc-voc',\n",
              "       'Education_Bachelors', 'Education_Doctorate', 'Education_HS-grad',\n",
              "       'Education_Masters', 'Education_Non-grad', 'Education_Prof-school',\n",
              "       'Education_Some-college', 'Martial Status_Divorced',\n",
              "       'Martial Status_Married', 'Martial Status_Never-married',\n",
              "       'Martial Status_Separated', 'Martial Status_Widowed',\n",
              "       'Occupation_Adm-clerical', 'Occupation_Armed-Forces',\n",
              "       'Occupation_Craft-repair', 'Occupation_Exec-managerial',\n",
              "       'Occupation_Farming-fishing', 'Occupation_Handlers-cleaners',\n",
              "       'Occupation_Machine-op-inspct', 'Occupation_Other-service',\n",
              "       'Occupation_Priv-house-serv', 'Occupation_Prof-specialty',\n",
              "       'Occupation_Protective-serv', 'Occupation_Sales',\n",
              "       'Occupation_Tech-support', 'Occupation_Transport-moving',\n",
              "       'Relationship_Husband', 'Relationship_Not-in-family',\n",
              "       'Relationship_Other-relative', 'Relationship_Own-child',\n",
              "       'Relationship_Unmarried', 'Relationship_Wife',\n",
              "       'Race_Amer-Indian-Eskimo', 'Race_Asian-Pac-Islander', 'Race_Black',\n",
              "       'Race_Other', 'Race_White', 'Sex_Female', 'Sex_Male', 'Country_Non US',\n",
              "       'Country_United-States'],\n",
              "      dtype='object')"
            ]
          },
          "metadata": {},
          "execution_count": 20
        }
      ],
      "source": [
        "dummy_df.columns"
      ]
    },
    {
      "cell_type": "code",
      "source": [
        "x_cols = dummy_df.columns[:5].append(dummy_df.columns[7:])\n",
        "y_cols = dummy_df.columns[6]"
      ],
      "metadata": {
        "id": "X3cAyRDjaH4Q"
      },
      "execution_count": 21,
      "outputs": []
    },
    {
      "cell_type": "code",
      "execution_count": 22,
      "metadata": {
        "id": "Ic9D62lq_SWZ"
      },
      "outputs": [],
      "source": [
        "X_train = dummy_df.loc[dummy_df.train==1,x_cols]\n",
        "X_test = dummy_df.loc[dummy_df.train==0,x_cols]\n",
        "y_train = dummy_df.loc[dummy_df.train==1,y_cols]\n",
        "y_test = dummy_df.loc[dummy_df.train==0,y_cols]"
      ]
    },
    {
      "cell_type": "markdown",
      "metadata": {
        "id": "OaNIQ9f-T6dK"
      },
      "source": [
        "Agregar categorias y separar datos de entrenamiento y testeo"
      ]
    },
    {
      "cell_type": "code",
      "execution_count": 23,
      "metadata": {
        "id": "JKkw4anguNyr"
      },
      "outputs": [],
      "source": [
        "from sklearn.model_selection import GridSearchCV, ParameterGrid, KFold\n",
        "from sklearn.svm import SVC\n",
        "from sklearn.decomposition import PCA\n",
        "from sklearn.pipeline import make_pipeline, Pipeline\n",
        "from sklearn.preprocessing import MinMaxScaler\n",
        "from sklearn.metrics import f1_score"
      ]
    },
    {
      "cell_type": "code",
      "execution_count": 24,
      "metadata": {
        "colab": {
          "base_uri": "https://localhost:8080/"
        },
        "id": "cp000MIKf3GS",
        "outputId": "a2d0885b-c9c5-4de5-d82d-f33b8e1d46b7"
      },
      "outputs": [
        {
          "output_type": "stream",
          "name": "stdout",
          "text": [
            "CPU times: user 23min 3s, sys: 25.4 s, total: 23min 28s\n",
            "Wall time: 23min 4s\n"
          ]
        }
      ],
      "source": [
        "%%time\n",
        "\n",
        "grid = [{'kernel': ['rbf'], 'gamma': [0.001, 0.01, 0.1], 'C':[0.1, 1, 10, 20]}]\n",
        "\n",
        "models = ParameterGrid(grid)\n",
        "kf = KFold(n_splits=5, shuffle=True)\n",
        "scaler = MinMaxScaler()\n",
        "pca = PCA(n_components=8, random_state=23)\n",
        "\n",
        "res = {'Model':[], 'f1':[]}\n",
        "\n",
        "for model in models:\n",
        "    svc = SVC(kernel=model['kernel'], C=model['C'], gamma=model['gamma'])\n",
        "    pipe = Pipeline([('scaler', scaler), ('pca', pca), ('svm', svc)])\n",
        "    f1 = 0\n",
        "\n",
        "    for k, (idx_x, idx_y) in enumerate(kf.split(X_train,y_train)):\n",
        "        X_train_kf, X_test_kf = X_train.iloc[idx_x], X_train.iloc[idx_y]\n",
        "        y_train_kf, y_test_kf = y_train.iloc[idx_x], y_train.iloc[idx_y]\n",
        "        clf = pipe.fit(X_train_kf, y_train_kf)\n",
        "        pred = clf.predict(X_test_kf)\n",
        "        f1 += f1_score(y_test_kf, pred)\n",
        "    res['Model'].append(svc)\n",
        "    res['f1'].append(np.round(f1/5,5))"
      ]
    },
    {
      "cell_type": "code",
      "source": [
        "pos = np.argmax(res['f1'])\n",
        "mod = res['Model'][pos]\n",
        "f1 = res['f1'][pos]\n",
        "print(f'el mejor modelo es {mod} con f1 promedio de {f1}')"
      ],
      "metadata": {
        "colab": {
          "base_uri": "https://localhost:8080/"
        },
        "id": "8GjywzYJJBQ4",
        "outputId": "2451cd1e-f348-41c8-f187-3c7ab680dcbb"
      },
      "execution_count": 25,
      "outputs": [
        {
          "output_type": "stream",
          "name": "stdout",
          "text": [
            "el mejor modelo es SVC(C=10, gamma=0.1) con f1 promedio de 0.57933\n"
          ]
        }
      ]
    },
    {
      "cell_type": "code",
      "source": [
        "res"
      ],
      "metadata": {
        "colab": {
          "base_uri": "https://localhost:8080/"
        },
        "id": "uM20tLxVVIt-",
        "outputId": "be699d83-bbf7-4f08-ba5f-fd5bb2d7a275"
      },
      "execution_count": 26,
      "outputs": [
        {
          "output_type": "execute_result",
          "data": {
            "text/plain": [
              "{'Model': [SVC(C=0.1, gamma=0.001),\n",
              "  SVC(C=0.1, gamma=0.01),\n",
              "  SVC(C=0.1, gamma=0.1),\n",
              "  SVC(C=1, gamma=0.001),\n",
              "  SVC(C=1, gamma=0.01),\n",
              "  SVC(C=1, gamma=0.1),\n",
              "  SVC(C=10, gamma=0.001),\n",
              "  SVC(C=10, gamma=0.01),\n",
              "  SVC(C=10, gamma=0.1),\n",
              "  SVC(C=20, gamma=0.001),\n",
              "  SVC(C=20, gamma=0.01),\n",
              "  SVC(C=20, gamma=0.1)],\n",
              " 'f1': [0.0,\n",
              "  0.51214,\n",
              "  0.5509,\n",
              "  0.5146,\n",
              "  0.514,\n",
              "  0.57755,\n",
              "  0.52228,\n",
              "  0.56061,\n",
              "  0.57933,\n",
              "  0.52224,\n",
              "  0.56858,\n",
              "  0.57826]}"
            ]
          },
          "metadata": {},
          "execution_count": 26
        }
      ]
    },
    {
      "cell_type": "markdown",
      "source": [
        "Crear el modelo con todas las variables, aunque utilizando como preprocesamiento MinMaxScaler()"
      ],
      "metadata": {
        "id": "rhTz00sX_PzP"
      }
    },
    {
      "cell_type": "code",
      "source": [
        "best_pipeline = make_pipeline(scaler, mod)\n",
        "best_pipeline.fit(X_train, y_train)"
      ],
      "metadata": {
        "colab": {
          "base_uri": "https://localhost:8080/"
        },
        "id": "a9ccqQYn_OTL",
        "outputId": "56956a75-6948-43c1-8e09-cf0a6e51f115"
      },
      "execution_count": 27,
      "outputs": [
        {
          "output_type": "execute_result",
          "data": {
            "text/plain": [
              "Pipeline(steps=[('minmaxscaler', MinMaxScaler()),\n",
              "                ('svc', SVC(C=10, gamma=0.1))])"
            ]
          },
          "metadata": {},
          "execution_count": 27
        }
      ]
    },
    {
      "cell_type": "code",
      "execution_count": 28,
      "metadata": {
        "id": "GZit9yPdkdU1"
      },
      "outputs": [],
      "source": [
        "clf = best_pipeline.predict(X_test)"
      ]
    },
    {
      "cell_type": "code",
      "execution_count": 29,
      "metadata": {
        "id": "Zzvn1kbCsrfL",
        "colab": {
          "base_uri": "https://localhost:8080/"
        },
        "outputId": "a5d91549-5eaa-4f54-bd77-73a51c7d7d73"
      },
      "outputs": [
        {
          "output_type": "stream",
          "name": "stdout",
          "text": [
            "              precision    recall  f1-score   support\n",
            "\n",
            "           0       0.87      0.93      0.90     11360\n",
            "           1       0.74      0.59      0.65      3700\n",
            "\n",
            "    accuracy                           0.85     15060\n",
            "   macro avg       0.80      0.76      0.78     15060\n",
            "weighted avg       0.84      0.85      0.84     15060\n",
            "\n"
          ]
        }
      ],
      "source": [
        "from sklearn.metrics import classification_report\n",
        "\n",
        "print(classification_report(y_test, clf))"
      ]
    },
    {
      "cell_type": "markdown",
      "metadata": {
        "id": "GFOCnSier_6t"
      },
      "source": [
        "<font color = \"Red\"> La Accuracy del modelo es básicamente el numero total de predicciones correctas dividido por el número total de predicciones, en este caso es 82%"
      ]
    },
    {
      "cell_type": "markdown",
      "metadata": {
        "id": "p5LHp__Ashyt"
      },
      "source": [
        "<font color = \"Red\"> La Precisión de una clase define cuan confiable es un modelo en responder si un punto pertenece a esa clase. En este caso para la clase 0 será del 95% y para la clase 1 sera de un 58%"
      ]
    },
    {
      "cell_type": "markdown",
      "metadata": {
        "id": "S6OUi5s9tOet"
      },
      "source": [
        "<font color = \"Red\">El Recall de una clase expresa cuan bien puede el modelo detectar a esa clase. Para 1 será de  >50K y para <=50K 0."
      ]
    },
    {
      "cell_type": "markdown",
      "metadata": {
        "id": "wb1-BTImt3HG"
      },
      "source": [
        "<font color = \"Red\">El F1 Score de una clase es dada por la media harmonía de precisión y recall (2 x precision x recall / (precision+recall)) digamos que combina precisión y recall en una sola métrica. En nuestro caso daría 0.87 para la clase 0 y 0.60 para 1..<br>\n",
        "Donde lo que mas cerca de 1 es lo mejor"
      ]
    },
    {
      "cell_type": "markdown",
      "metadata": {
        "id": "YIJTs6nV1qtK"
      },
      "source": [
        "<font color =\"red\">--> Si un modelo es robusto independiente del conjunto que elija de test y entrenamiento relativamente se comporten relativamente similares..eso habla del que modelo es estable y generalizable para eso se hace un cross validation, en este caso los valores son bien parecidos"
      ]
    }
  ],
  "metadata": {
    "colab": {
      "collapsed_sections": [],
      "name": "SL10-Ejercicio_SVMMka.ipynb",
      "provenance": [],
      "include_colab_link": true
    },
    "kernelspec": {
      "display_name": "Python 3",
      "name": "python3"
    }
  },
  "nbformat": 4,
  "nbformat_minor": 0
}