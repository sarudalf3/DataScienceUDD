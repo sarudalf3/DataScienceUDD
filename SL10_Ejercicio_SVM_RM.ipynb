{
  "nbformat": 4,
  "nbformat_minor": 0,
  "metadata": {
    "colab": {
      "name": "SL10-Ejercicio_SVM.ipynb",
      "provenance": [],
      "collapsed_sections": [],
      "include_colab_link": true
    },
    "kernelspec": {
      "name": "python3",
      "display_name": "Python 3"
    }
  },
  "cells": [
    {
      "cell_type": "markdown",
      "metadata": {
        "id": "view-in-github",
        "colab_type": "text"
      },
      "source": [
        "<a href=\"https://colab.research.google.com/github/sarudalf3/DataScienceUDD/blob/main/SL10_Ejercicio_SVM_RM.ipynb\" target=\"_parent\"><img src=\"https://colab.research.google.com/assets/colab-badge.svg\" alt=\"Open In Colab\"/></a>"
      ]
    },
    {
      "cell_type": "markdown",
      "metadata": {
        "id": "xEiocYIB9uYi"
      },
      "source": [
        "# **Aprendizaje supervisado**\n",
        "# SL010. Ejercicio SVM"
      ]
    },
    {
      "cell_type": "markdown",
      "metadata": {
        "id": "sZPDVWktD1wi"
      },
      "source": [
        "Descargar el dataset ''Adult'' [UCI Machine Learning](https://archive.ics.uci.edu/ml/datasets/Adult). Leer la documentacion del conjunto de datos para definir la tarea a realizar. \n",
        "\n",
        "Entrene un modelo de SVM, con 5 fold cross validation y encuentre con GridSearch el conjunto de parametros que maximicen el indice F1. Reporte la matriz de confusion, F1, Recall, Precision y Accuracy."
      ]
    },
    {
      "cell_type": "code",
      "metadata": {
        "id": "N5Tb44F6D5uF"
      },
      "source": [
        "import pandas as pd\n",
        "import numpy as np\n",
        "import seaborn as sns\n",
        "import matplotlib.pyplot as plt\n",
        "import sklearn \n",
        "%matplotlib inline"
      ],
      "execution_count": null,
      "outputs": []
    },
    {
      "cell_type": "code",
      "metadata": {
        "id": "xtkyC9Y_l8dL"
      },
      "source": [
        "#Solución"
      ],
      "execution_count": null,
      "outputs": []
    }
  ]
}